{
 "cells": [
  {
   "cell_type": "markdown",
   "metadata": {},
   "source": [
    "# Example Data Science Project for USDA\n",
    "Shane M. Wilkins, PhD\n",
    "2021-01-21\n",
    "\n",
    "## Introduction\n",
    "\n",
    "This notebook provides a gentle introduction to some common data science methods that may be useful to USDA staff working on research projects for the Agency.\n",
    "We will only use publicly available official government data.\n",
    "None of this data contains personally identifiable information.\n",
    "\n",
    "Please note that this is not an official report of the USDA.\n",
    "This project is purely educational and all the examples given here are purely for the sake of illustration.\n",
    "\n",
    "### The CRISP-DM Model\n"
   ]
  },
  {
   "cell_type": "markdown",
   "metadata": {},
   "source": [
    "## Business Problem"
   ]
  },
  {
   "cell_type": "markdown",
   "metadata": {},
   "source": [
    "## Data Sources\n",
    "\n",
    "### USDA Data Sources\n",
    "\n",
    "USDA maintains a library of APIs available at [usda.gov](https://www.usda.gov/media/digital/developer-resources).\n",
    "\n",
    "NRCS National Water and Climate Center's Air and Water Database (AWDB) has an [API](https://www.wcc.nrcs.usda.gov/web_service/AWDB_Web_Service_Tutorial.htm)."
   ]
  },
  {
   "cell_type": "code",
   "execution_count": 5,
   "metadata": {},
   "outputs": [],
   "source": [
    "import numpy as np \n",
    "import pandas as pd # Pandas provides useful data manipulation features\n",
    "import plotly.express as px # Plotly creates interactive, beautiful visualizations"
   ]
  },
  {
   "cell_type": "code",
   "execution_count": null,
   "metadata": {},
   "outputs": [],
   "source": [
    "from zeep import Client # Zeep provides access to SOAP APIs\n",
    "\n",
    "client = Client('https://www.wcc.nrcs.usda.gov/awdbWebService/services?WSDL')\n",
    "\n",
    "# example API call from AWDB docs\n",
    "# https://www.wcc.nrcs.usda.gov/web_service/AWDB_Web_Service_Reference.htm#getdata\n",
    "\n",
    "stationTriplets = \"302:OR:SNTL\" #SNOTEL Station ANEROID LAKE #2 in Oregon\n",
    "elementCd = \"PREC\" # accumulated precipitation\n",
    "ordinal = 1 \n",
    "heightDepth = None\n",
    "duration = Duration.DAILY\n",
    "getFlags = True\n",
    "beginDate = \"2010-01-01\"\n",
    "endDate = \"2010-01-31\"\n",
    "alwaysReturnDailyFeb29 = False\n",
    "\n",
    "query = [stationTriplets,elementCd, ordinal, heightDepth, duration, getFlags, beginDate,endDate,]\n",
    "\n",
    "result = client.service.getData(query)\n",
    "result"
   ]
  }
 ],
 "metadata": {
  "kernelspec": {
   "display_name": "Python 3",
   "language": "python",
   "name": "python3"
  },
  "language_info": {
   "codemirror_mode": {
    "name": "ipython",
    "version": 3
   },
   "file_extension": ".py",
   "mimetype": "text/x-python",
   "name": "python",
   "nbconvert_exporter": "python",
   "pygments_lexer": "ipython3",
   "version": "3.9.1"
  },
  "nikola": {
   "category": "",
   "date": "2021-01-16 14:59:23 UTC-06:00",
   "description": "",
   "link": "",
   "slug": "example-data-science-project-for-usda",
   "status": "draft",
   "tags": "",
   "title": "Example Data Science Project for USDA",
   "type": "text"
  }
 },
 "nbformat": 4,
 "nbformat_minor": 4
}
