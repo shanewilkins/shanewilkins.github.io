{
 "cells": [
  {
   "cell_type": "markdown",
   "metadata": {},
   "source": [
    "# Business Plan"
   ]
  },
  {
   "cell_type": "markdown",
   "metadata": {},
   "source": [
    "## E\n",
    "\n",
    "The idea here is to create a simple business plan for my new personal financial planning firm.\n",
    "\n",
    "### Revision History\n",
    "\n",
    "- 18 January, Document started"
   ]
  },
  {
   "cell_type": "markdown",
   "metadata": {},
   "source": [
    "## Description of Firm\n",
    "\n",
    "### Services Provided\n",
    "\n",
    "- Personal financial planning"
   ]
  },
  {
   "cell_type": "markdown",
   "metadata": {},
   "source": [
    "## Market Analysis"
   ]
  },
  {
   "cell_type": "code",
   "execution_count": null,
   "metadata": {},
   "outputs": [],
   "source": []
  }
 ],
 "metadata": {
  "kernelspec": {
   "display_name": "Python 3",
   "language": "python",
   "name": "python3"
  },
  "language_info": {
   "codemirror_mode": {
    "name": "ipython",
    "version": 3
   },
   "file_extension": ".py",
   "mimetype": "text/x-python",
   "name": "python",
   "nbconvert_exporter": "python",
   "pygments_lexer": "ipython3",
   "version": "3.9.1"
  },
  "nikola": {
   "category": "",
   "date": "2021-01-18 09:27:51 UTC-06:00",
   "description": "",
   "link": "",
   "slug": "business-plan",
   "tags": "",
   "title": "Business Plan",
   "type": "text"
  }
 },
 "nbformat": 4,
 "nbformat_minor": 4
}
