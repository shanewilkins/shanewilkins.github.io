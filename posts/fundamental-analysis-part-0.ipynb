{
 "cells": [
  {
   "cell_type": "markdown",
   "metadata": {},
   "source": [
    "# Introduction"
   ]
  },
  {
   "cell_type": "markdown",
   "metadata": {},
   "source": [
    "In this series, I'm going to start building code to train a machine learning model to pick stocks."
   ]
  },
  {
   "cell_type": "markdown",
   "metadata": {},
   "source": [
    "## Desiderata for a dataset\n",
    "\n",
    "- All financial statement data\n",
    "- All common ratios for ratio analysis\n",
    "- Comparison to other names in the same industry"
   ]
  },
  {
   "cell_type": "code",
   "execution_count": 1,
   "metadata": {},
   "outputs": [],
   "source": [
    "# Trying to keep it lean\n",
    "\n",
    "import numpy as np\n",
    "import pandas as pd\n",
    "import plotly.express as px\n",
    "import sklearn as sk"
   ]
  },
  {
   "cell_type": "code",
   "execution_count": null,
   "metadata": {},
   "outputs": [],
   "source": []
  }
 ],
 "metadata": {
  "kernelspec": {
   "display_name": "Python 3",
   "language": "python",
   "name": "python3"
  },
  "language_info": {
   "codemirror_mode": {
    "name": "ipython",
    "version": 3
   },
   "file_extension": ".py",
   "mimetype": "text/x-python",
   "name": "python",
   "nbconvert_exporter": "python",
   "pygments_lexer": "ipython3",
   "version": "3.9.1"
  },
  "nikola": {
   "category": "",
   "date": "2021-01-24 19:24:10 UTC-06:00",
   "description": "",
   "link": "",
   "slug": "fundamental-analysis-part-0",
   "status": "draft",
   "tags": "",
   "title": "Fundamental Analysis Part 0",
   "type": "text"
  }
 },
 "nbformat": 4,
 "nbformat_minor": 4
}
