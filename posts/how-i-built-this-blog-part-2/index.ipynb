{
 "cells": [
  {
   "cell_type": "markdown",
   "metadata": {},
   "source": [
    "## Choosing a Blogging Platform\n",
    "\n",
    "Since Python is the language I'm the most comfortable in, I want a blogging platform that is based on python in case I ever need to try customizing something.\n",
    "My first thought when looking for a blogging platform was to build out a blog using [Django](https://www.djangoproject.com) following one of the numerous [tutorials](https://djangocentral.com/building-a-blog-application-with-django/) for building a blog with Django, since I'm very interested in building out a Django site in the future.\n",
    "Django would offer the ability to offer a dynamic site with a live database and build dashboards or other interactive visualizations that could be dynamically updated over time.\n",
    "On the other hand, the benefits of a dynamic site are purchased with considerably increased complexity.\n",
    "Since I am much more interested in *writing a blog* than I am in *writing blogging software* and the benefits of a dynamic site do not appear immediately useful, I settled on the idea of doing something much simpler, which meant using a static site.\n",
    "\n",
    "Having decided on using a static site, the choice of python static blog generator platforms gets basically comes down to [Pelican](https://blog.getpelican.com) vs [Nikola](https://getnikola.com) (no, not *that* [Nikola](https://www.nytimes.com/2020/09/21/business/nikola-trevor-milton-resigns.html)).\n",
    "Both platforms support rich sets of features including plugins, themes, and extensions.\n",
    "Both options have all the features we identified earlier in our requirements:\n",
    "\n",
    "|Feature| Nikola | Pelican |\n",
    "|---|---|---|\n",
    "| Easy static sites? | Y | Y |\n",
    "| Comments? | Y | Y |\n",
    "| Custom themes? | Y | Y |\n",
    "| LaTeX support? | Y | Y |\n",
    "| Markdown? | Y | Y |\n",
    "| Jupyter notebooks? | Y | Y |\n",
    "| Publish with git? | Y | Y |\n",
    "\n",
    "In point of fact, I've only discovered two small differences between the two packages.\n",
    "\n",
    "First, Nikola offers a neat incremental build system that only rebuilds existing content if the source for that post has changed, whereas Pelican appears to rebuild every post every time.\n",
    "In theory the incremental builds could be a real time-saver if one had a large number of posts.\n",
    "\n",
    "The second, and potentially more significant difference between the two platforms comes in the user base.\n",
    "As of the time of this writing, Pelican has 10k stars on github and Nikola has only 2k.\n",
    "To be sure, both projects have established user bases and have ongoing development and support, but I have a strong preference for the larger user base.\n",
    "A larger user base means more people out there writing plugins, documentation, and answering stack overflow questions, and that's what I want.\n",
    "\n",
    "***Update 12/20/2020***\n",
    "Although, I initially chose Pelican because of it's larger userbase, I ended up changing my mind because although Pelican does have *plugins* that support notebooks, Pelican itself does not do so out of the box. \n",
    "Both plugins I tried (```pelican-jupyter``` and ```ipython```) do not appear to be actively maintained.\n",
    "So, I ended up very quickly trapped in the realm of hunting through documentation and trying to resolve version conflicts. \n",
    "That was the opposit"
   ]
  }
 ],
 "metadata": {
  "kernelspec": {
   "display_name": "Python 3",
   "language": "python",
   "name": "python3"
  },
  "language_info": {
   "codemirror_mode": {
    "name": "ipython",
    "version": 3
   },
   "file_extension": ".py",
   "mimetype": "text/x-python",
   "name": "python",
   "nbconvert_exporter": "python",
   "pygments_lexer": "ipython3",
   "version": "3.9.1"
  },
  "nikola": {
   "category": "",
   "date": "2020-12-20 14:19:30 UTC-06:00",
   "description": "",
   "link": "",
   "slug": "how-i-built-this-blog-part-2",
   "tags": "",
   "title": "How I built this blog (Part 2)",
   "type": "text"
  }
 },
 "nbformat": 4,
 "nbformat_minor": 4
}
