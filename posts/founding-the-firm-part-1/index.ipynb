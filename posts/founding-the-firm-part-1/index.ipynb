{
 "cells": [
  {
   "cell_type": "markdown",
   "metadata": {},
   "source": [
    "## Scope and Goal\n",
    "\n",
    "My project for 2021 is to start my own financial planning firm.\n",
    "Specifically, the goals for this project will be to:\n",
    "\n",
    "  - [ ] Engage 1 paying client by December 31, 2021.\n",
    "\n",
    "## Milestones\n",
    "\n",
    "1. Business plan\n",
    "2. Create a legal entity for the business\n",
    "3. Get all the required licenses necessary to begin operations\n",
    "4. Complete professional development courses\n",
    "5. Develop statements of work, templates, charts, any other materials required for customers\n",
    "6. Marketing Plan\n",
    "7. Rollout!\n",
    "\n",
    "## Timeline\n",
    "\n",
    "\n",
    "| Milestone | Activity | Dep.'s | Start | Stop | Duration (business days) |\n",
    "|---|---|---|---|---|---|\n",
    "| Business Plan | 1.1 Create list of services |  | 1/1/2021 | 1/1/2021 | 1 |\n",
    "| | 1.2 Write company description | | 1/4/2021 | 1/4/2021 | 1 |\n",
    "| | 1.3 Write market analysis | 1.2 | 1/5/2021 | 1/8/2021 | 4 |\n",
    "| | 1.4 Write competitive analysis | | 1/11/2021 | 1/15/2021 | 5 |\n",
    "| | 1.5 Write marketing plan | 1.3, 1.4 | 1/18/2021 | 1/20/2021 | 3 |\n",
    "| | 1.6 Write executive summary | 1.2-1.5 | 1/21/2021 | 1/21/2021 | 1|\n",
    "| | 1.7 Final proofread and publish to blog | | 1/22/2021 | 1/22/2021 | 1|\n",
    "| Legal entity | 2.1 Decide on a business structure | 1.7 | 1/25/2021 | 1/25/2021 | 1 |\n",
    "| | 2.2 Come up with an official name | | 1/26/2021 | 1/26/2021 | 1 |\n",
    "| | 2.3 Register with state | 2.2 | 1/27/2021 | 1/27/2021 | 1 |\n",
    "| | 2.4 Set up a bank account | 2.3 | 1/28/2021 | 1/28/2021 | 1 |\n",
    "| | 2.5 Business phone #? | 2.4 | 1/29/2021 | 1/29/2021 | 1 |\n",
    "| Licensing & Legal Reqs| 3.1 Register and Study for Series 65 | | 2/1/2021 | 2/26/2021 | 20 |\n",
    "| | 3.2 Take Series 65 | 3.1 | 3/1/2021 | 3/2/2021 | 1 |\n",
    "| | 3.3 Register RIA with state | 3.2 | 3/3/2021 | 3/4/2021 | 2 |\n",
    "| | 3.4 Errors and Omissions Insurance | | 3/5/2021 | 3/5/2021 | 1 |  \n",
    "| Professional Development | 4.1 Review and Personalize Curriculum | | 3/8/2021 |  3/8/2021 | 1 |\n",
    "| | 4.2 'Survey of Personal Financial Planning' | 4.1 | 3/9/2021 | 4/9/2021 | 24 |\n",
    "| | 4.3 'Income Taxes and Personal Financial Planning' | 4.1 | 4/12/2021 | 5/14/2021 | 25 |\n",
    "| | 4.4 'Investments in Personal Financial Planning' | 4.1 | 5/17/2021 | 6/18/2021 | 25 |\n",
    "| | 4.5 'Insurance in Personal Financial Planning' | 4.1 | 6/21/2021 | 7/23/2021 | 24 |\n",
    "| | 4.6 'Estate Planning' | 4.1 | 7/26/2021 | 8/27/2021 | 25 |\n",
    "| | 4.7 'Employment Benefits and Retirement Planning' | 4.1 | 8/31/2021 | 10/1/2021 | 25 |\n",
    "| | 4.8 'Personal Financial Planning Capstone' | 4.2-4.7 | 10/4/2021 | 11/5/2021 | 25 |\n",
    "|Develop Materials | 5.1 Develop Standard Reports | 4.8 | 11/8/2021 | 11/12/2021 | 5 |\n",
    "| | 5.2 Develop Statement of Work | 5.1 | 11/15/2021 | 11/19/2021 | 5 |\n",
    "| | 5.3 Develop Standard Presentation | 5.1 | 11/22/2021 | 11/26/2021 | 5 |\n",
    "| Marketing Plan | 6.1 Ads | | | |\n",
    "| Close the Sale | 7.1 Make a sale  | | | |\n"
   ]
  }
 ],
 "metadata": {
  "kernelspec": {
   "display_name": "Python 3",
   "language": "python",
   "name": "python3"
  },
  "language_info": {
   "codemirror_mode": {
    "name": "ipython",
    "version": 3
   },
   "file_extension": ".py",
   "mimetype": "text/x-python",
   "name": "python",
   "nbconvert_exporter": "python",
   "pygments_lexer": "ipython3",
   "version": "3.9.1"
  },
  "nikola": {
   "category": "",
   "date": "2020-12-20 14:44:31 UTC-06:00",
   "description": "",
   "link": "",
   "slug": "founding-the-firm-part-1",
   "tags": "",
   "title": "Founding the Firm Part 1",
   "type": "text"
  }
 },
 "nbformat": 4,
 "nbformat_minor": 4
}
