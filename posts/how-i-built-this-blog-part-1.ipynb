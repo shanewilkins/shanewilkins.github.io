{
 "cells": [
  {
   "cell_type": "markdown",
   "metadata": {},
   "source": [
    "I intend to use this blog to post some of my personal data science projects and to work out some of my ideas.\n",
    "The primary goal is to keep myself writing code and building a portfolio of data science projects, but hopefully others will find something useful to read here as well.\n",
    "\n",
    "As my first series of posts, I'm going to write about the project of creating the blog itself.\n",
    "\n",
    "Let's begin by defining our requirements and then we can look to see what technologies we might adopt to fulfill these requirements.\n",
    "\n",
    "* The first and most important requirement is that we want a python-based blogging platform easy to use. We want to spend our time writing content, not twiddling with configuration files or so on. Some additional features that would be nice to have in our blogging platform would be\n",
    "    - the ability for readers to leave comments or subscribe to future posts,\n",
    "    - use custom themes for styling the appearance, and\n",
    "    - ability to support LaTeX-style mathematics, preferably with [KaTeX](https://katex.org)\n",
    "* Second, we want to be able to keep all of our source code and other content in version control to ensure we have good offsite backups and to give us flexibility to move to a different platform in the future if our requirements change. I use [git](www.github.com) for my version control, so I'd like to be able to publish content to the site via git.\n",
    "* Third, we'd really like to be able to write our content in [Markdown](https://en.wikipedia.org/wiki/Markdown) files and post [Jupyter Notebooks](https://jupyter.org) so that we can share code and visualizations as well as written text.\n",
    "* Fourth, we'd like to have our own domain name.\n",
    "* Fifth, we'd like to do all this as cheaply as possible ...\n",
    "\n",
    "In the next installment, we'll use these sketchily defined requirements to go fishing for neat new tech to use to build our blog."
   ]
  }
 ],
 "metadata": {
  "kernelspec": {
   "display_name": "Python 3",
   "language": "python",
   "name": "python3"
  },
  "language_info": {
   "codemirror_mode": {
    "name": "ipython",
    "version": 3
   },
   "file_extension": ".py",
   "mimetype": "text/x-python",
   "name": "python",
   "nbconvert_exporter": "python",
   "pygments_lexer": "ipython3",
   "version": "3.9.1"
  },
  "nikola": {
   "category": "",
   "date": "2020-12-20 14:15:02 UTC-06:00",
   "description": "",
   "link": "",
   "slug": "how-i-built-this-blog-part-1",
   "tags": "",
   "title": "How I Built This Blog (Part 1)",
   "type": "text"
  }
 },
 "nbformat": 4,
 "nbformat_minor": 4
}
