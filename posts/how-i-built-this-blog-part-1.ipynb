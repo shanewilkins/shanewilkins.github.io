{
 "cells": [
  {
   "cell_type": "markdown",
   "metadata": {},
   "source": [
    "## Introduction\n",
    "\n",
    "In the last post, we defined our technical requirements and (after some exploration) settled on Nikola as the platform for the blog. \n",
    "In this installment, we'll create an environment, install Nikola, get everything set up, build our first post, and then push the whole thing to GitHub pages."
   ]
  },
  {
   "cell_type": "markdown",
   "metadata": {},
   "source": [
    "## Step 1 -- Creating the Repository\n",
    "\n",
    "I'm assuming that you already have a good version of [```python 3```](https://www.python.org/downloads/) and [```git``` installed](https://git-scm.com/book/en/v2/Getting-Started-Installing-Git) and that you already have an account on [github](https://github.com) \n",
    "\n",
    "\n",
    "1. Log in to github and create a new repository named ```<yourUsername>.github.io``` where ```<yourUsername>``` is your username.\n",
    "   - Choose a .gitignore for python, and a license if you want.\n",
    "2. Now you'll need to [clone this new repository](https://docs.github.com/en/free-pro-team@latest/github/creating-cloning-and-archiving-repositories/cloning-a-repository) to the local machine where you'll be working. \n",
    "   - On a mac, I did this with ```git clone git@github.com:shanewilkins/shanewilkins.github.io.git``` from the directory *above* where I wanted the new project folder ```shanewilkins.io.git``` to live."
   ]
  },
  {
   "cell_type": "markdown",
   "metadata": {},
   "source": [
    "## Step 2 -- Creating a Python Environment\n",
    "\n",
    "3. Navigate to the new project folder ```cd <yourUsername>.github.io```\n",
    "4. Create a virtual environment for our project with ```virtualenv venv``` which should create a new subfolder called ```venv``` in the project folder.\n",
    "5. Activate the virtual environment with ```source venv/bin/activate```. You should see ```(venv)``` to the left of your command prompt.\n",
    "   - You can do ```python --version``` or ```which python``` to make sure that the active version of python is the right version from the virtual environment.\n",
    "5. Update the installed versions of the \"seed\" packages ```python -m pip install -U pip setuptools wheel```"
   ]
  },
  {
   "cell_type": "markdown",
   "metadata": {},
   "source": [
    "## Step 3 -- Installing Nikola and Initializing a Site\n",
    "\n",
    "7. Now we install ```Nikola``` with ```pip install \"nikola[extras]\"```. This will take a couple of minutes. Since Nikola supports Jupyter out of the box, Nikola has to depend on all of Jupyter's numerous dependencies too.\n",
    "8. Once we have Nikola installed, we are ready to start the blog! All we have to do is ```nikola init``` and Nikola will start an interactive prompt to guide us through some setup questions. (Don't worry about choosing the wrong thing--you can change all of these settings later in ```conf.py```.)\n",
    "9. Open ```conf.py``` and make sure of three things:\n",
    "\n",
    "  - ```SITE_URL = \"https://<yourUsername>.github.io\"```, \n",
    "  - ```GITHUB_DEPLOY_BRANCH = 'main'``` (not ```master```), and\n",
    "  - ```POSTS``` can find ```.ipynb``` with \n",
    "\n",
    "```\n",
    "POSTS = (\n",
    "    ...\n",
    "    (\"posts/*.ipynb\", \"posts\", \"post.tmpl\")\n",
    ")```"
   ]
  },
  {
   "cell_type": "markdown",
   "metadata": {},
   "source": [
    "## Step 4 -- Writing the First Post\n",
    "\n",
    "10. Now to create your first post (which will be a Jupyter notebook) do ```nikola new_post -f ipynb``` and tell the prompt what you'd like the name of this post to be. (***Note.*** all the ```new_post``` command is really doing is populating notebook metadata, which you can edit later from inside Jupyter with ```Edit>Edit Notebook Metadata```\n",
    "11. Now fire up the notebook with ```jupyter notebook```, and you should find your new post in the ```posts``` directory.\n",
    "12. Write your post! :)\n",
    "13. Save the post and close Jupyter."
   ]
  },
  {
   "cell_type": "markdown",
   "metadata": {},
   "source": [
    "## Step 5 -- Publish to Github Pages\n",
    "\n",
    "14. From the commandline in your main project folder now you can simply do ```nikola github_deploy``` and Nikola will automagically build the site, commit changes, and push to the remote repository.\n",
    "15. Go get a cup of coffee.\n",
    "16. Now navigate in your browser of choice to ```https://<yourUsername>.github.io``` and, if all has gone well, you should see your brand new blog appear, courtesy of github pages."
   ]
  }
 ],
 "metadata": {
  "kernelspec": {
   "display_name": "Python 3",
   "language": "python",
   "name": "python3"
  },
  "language_info": {
   "codemirror_mode": {
    "name": "ipython",
    "version": 3
   },
   "file_extension": ".py",
   "mimetype": "text/x-python",
   "name": "python",
   "nbconvert_exporter": "python",
   "pygments_lexer": "ipython3",
   "version": "3.9.1"
  },
  "nikola": {
   "category": "",
   "date": "2020-12-20 14:39:36 UTC-06:00",
   "description": "Installing Nikola, setting everything up, making a test post, and pushing everything to GitHub pages",
   "link": "",
   "slug": "how-i-built-this-blog-part-1",
   "tags": "",
   "title": "How I Built This Blog (Part 1)",
   "type": "text"
  }
 },
 "nbformat": 4,
 "nbformat_minor": 4
}
