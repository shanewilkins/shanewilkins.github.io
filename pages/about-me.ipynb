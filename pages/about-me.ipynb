{
 "cells": [
  {
   "cell_type": "markdown",
   "metadata": {},
   "source": [
    "## About me\n",
    "\n",
    "My name is Shane M. Wilkins.\n",
    "I'm really interested in data science topics, finance, government, and philosophy.\n",
    "\n",
    "I'm currently a management analyst with the USDA, but **this is my own personal blog, and the views expressed here are my own, and not the views of the US Federal government or USDA specifically.**\n",
    "\n",
    "Before coming to work in government, I was a postdoc in philosophy at Fordham University and I published a [couple of papers](https://orcid.org/0000-0003-0963-9065\n",
    ")\n",
    "\n",
    "I am a member of the [American Philosophical Association](https://www.apaonline.org)'s Non-Academic Careers Committee.\n",
    "\n",
    "I was a [Presidential Management Fellow](https://www.pmf.gov) with the USDA and I'm still an ambassador for the program.\n",
    "\n",
    "If you're an academic looking to transition to a non-academic career, feel free to message me on [LinkedIn](www.linkedin.com/shane-wilkins-0b486099) or via email at myFirstName *dot* myLastName *at* gmail *dot* com.\n"
   ]
  }
 ],
 "metadata": {
  "kernelspec": {
   "display_name": "Python 3",
   "language": "python",
   "name": "python3"
  },
  "language_info": {
   "codemirror_mode": {
    "name": "ipython",
    "version": 3
   },
   "file_extension": ".py",
   "mimetype": "text/x-python",
   "name": "python",
   "nbconvert_exporter": "python",
   "pygments_lexer": "ipython3",
   "version": "3.9.1"
  },
  "nikola": {
   "category": "",
   "date": "2021-01-18 13:09:50 UTC-06:00",
   "description": "",
   "link": "",
   "slug": "about-me",
   "tags": "",
   "title": "About me",
   "type": "text"
  }
 },
 "nbformat": 4,
 "nbformat_minor": 4
}
